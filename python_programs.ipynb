{
  "nbformat": 4,
  "nbformat_minor": 0,
  "metadata": {
    "colab": {
      "provenance": [],
      "authorship_tag": "ABX9TyP0VjpkFX3WqN/w/PpShJ2p",
      "include_colab_link": true
    },
    "kernelspec": {
      "name": "python3",
      "display_name": "Python 3"
    },
    "language_info": {
      "name": "python"
    }
  },
  "cells": [
    {
      "cell_type": "markdown",
      "metadata": {
        "id": "view-in-github",
        "colab_type": "text"
      },
      "source": [
        "<a href=\"https://colab.research.google.com/github/skhan0224/lenkins_pipeline_demo/blob/main/python_programs.ipynb\" target=\"_parent\"><img src=\"https://colab.research.google.com/assets/colab-badge.svg\" alt=\"Open In Colab\"/></a>"
      ]
    },
    {
      "cell_type": "code",
      "execution_count": null,
      "metadata": {
        "id": "BMSKdWSh7yM7"
      },
      "outputs": [],
      "source": []
    },
    {
      "cell_type": "code",
      "source": [
        "# daily sales data for two weeks\n",
        "sales = [200, 250, 260, 280, 300, 320, 350, 360, 380, 400, 420, 430, 450, 460,]\n",
        "# extract first week's sales\n",
        "week1_sales = sales[:7]\n",
        "# extract second week's sales\n",
        "week2_sales = sales[7:]\n",
        "# print (sum(sales[;7]))\n",
        "print(\"week 1 sales:\", week1_sales)\n",
        "# extract second week's sales\n",
        "week2_sales = sales[7:]\n",
        "print(\"week 2 sales:\", week2_sales)\n",
        "# extract weekend sales(every 7th day)\n",
        "weekend_sales= sales[6::7]\n",
        "print(\"weekend sales:\",weekend_sales)"
      ],
      "metadata": {
        "id": "aB1UE1q2qv9S",
        "colab": {
          "base_uri": "https://localhost:8080/"
        },
        "outputId": "2eab3065-631c-4a06-c356-eefa80a284cc"
      },
      "execution_count": 6,
      "outputs": [
        {
          "output_type": "stream",
          "name": "stdout",
          "text": [
            "week 1 sales: [200, 250, 260, 280, 300, 320, 350]\n",
            "week 2 sales: [360, 380, 400, 420, 430, 450, 460]\n",
            "weekend sales: [350, 460]\n"
          ]
        }
      ]
    },
    {
      "cell_type": "code",
      "source": [],
      "metadata": {
        "colab": {
          "base_uri": "https://localhost:8080/",
          "height": 176
        },
        "id": "Ek3Dkbl3tEGv",
        "outputId": "309d1028-f74a-4d74-9d57-4a7b8fea163c"
      },
      "execution_count": 7,
      "outputs": [
        {
          "output_type": "error",
          "ename": "NameError",
          "evalue": "name 'weekly_sales' is not defined",
          "traceback": [
            "\u001b[0;31m---------------------------------------------------------------------------\u001b[0m",
            "\u001b[0;31mNameError\u001b[0m                                 Traceback (most recent call last)",
            "\u001b[0;32m<ipython-input-7-37a2fb72e1de>\u001b[0m in \u001b[0;36m<cell line: 0>\u001b[0;34m()\u001b[0m\n\u001b[0;32m----> 1\u001b[0;31m \u001b[0mprint\u001b[0m\u001b[0;34m(\u001b[0m\u001b[0;34m\"first 7 weekly sales:\"\u001b[0m\u001b[0;34m,\u001b[0m\u001b[0mweekly_sales\u001b[0m\u001b[0;34m[\u001b[0m\u001b[0;34m:\u001b[0m\u001b[0;36m7\u001b[0m\u001b[0;34m]\u001b[0m\u001b[0;34m)\u001b[0m\u001b[0;34m\u001b[0m\u001b[0;34m\u001b[0m\u001b[0m\n\u001b[0m\u001b[1;32m      2\u001b[0m \u001b[0mprint\u001b[0m\u001b[0;34m(\u001b[0m\u001b[0;34m\"last 3 weekly sales:\"\u001b[0m\u001b[0;34m,\u001b[0m\u001b[0mweekly_sales\u001b[0m\u001b[0;34m[\u001b[0m\u001b[0;34m-\u001b[0m\u001b[0;36m3\u001b[0m\u001b[0;34m:\u001b[0m\u001b[0;34m]\u001b[0m\u001b[0;34m)\u001b[0m\u001b[0;34m\u001b[0m\u001b[0;34m\u001b[0m\u001b[0m\n\u001b[1;32m      3\u001b[0m \u001b[0mprint\u001b[0m\u001b[0;34m(\u001b[0m\u001b[0;34m\"total sales:\"\u001b[0m\u001b[0;34m,\u001b[0m\u001b[0mweekly_sales\u001b[0m\u001b[0;34m)\u001b[0m\u001b[0;34m\u001b[0m\u001b[0;34m\u001b[0m\u001b[0m\n",
            "\u001b[0;31mNameError\u001b[0m: name 'weekly_sales' is not defined"
          ]
        }
      ]
    }
  ]
}